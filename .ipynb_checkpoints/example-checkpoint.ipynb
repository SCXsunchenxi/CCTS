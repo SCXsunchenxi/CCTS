{
 "cells": [
  {
   "cell_type": "code",
   "execution_count": 2,
   "metadata": {},
   "outputs": [],
   "source": [
    "import alg.main as model\n",
    "import pandas as pd\n",
    "pd.set_option('display.max_columns', None)\n",
    "import pickle\n",
    "import numpy as np\n",
    "import matplotlib.pyplot as plt"
   ]
  },
  {
   "cell_type": "markdown",
   "metadata": {},
   "source": [
    "# COVID-19 DATA"
   ]
  },
  {
   "cell_type": "code",
   "execution_count": 8,
   "metadata": {},
   "outputs": [
    {
     "name": "stdout",
     "output_type": "stream",
     "text": [
      "Average lenghth of samples: 16.282666666666668\n"
     ]
    },
    {
     "data": {
      "image/png": "[encoded data removed]",
      "text/plain": [
       "<Figure size 648x432 with 1 Axes>"
      ]
     },
     "metadata": {
      "needs_background": "light"
     },
     "output_type": "display_data"
    }
   ],
   "source": [
    "data_df = pd.read_excel('data/time_series_375_prerpocess_en.xlsx',index_col=[0])\n",
    "# sample length count\n",
    "count=data_df.groupby(['PATIENT_ID'])['RE_DATE'].count().reset_index()\n",
    "sum_count=count.groupby(['RE_DATE']).count().reset_index()\n",
    "sample_length=sum_count['RE_DATE'].tolist()\n",
    "sample_length_count=sum_count['PATIENT_ID'].tolist()\n",
    "# average length\n",
    "total=0.0\n",
    "counts=0.0\n",
    "for i in range(len(sample_length)):\n",
    "    total=total+sample_length[i]*sample_length_count[i]\n",
    "    counts=counts+sample_length_count[i]\n",
    "print(\"Average lenghth of samples: \"+str(total/counts))\n",
    "plt.figure(figsize=(9,6))\n",
    "plt.bar(sample_length,sample_length_count, width=0.5 , color='steelblue')\n",
    "plt.ylabel('Count')\n",
    "plt.xlabel('Sample length')\n",
    "plt.show()"
   ]
  },
  {
   "cell_type": "markdown",
   "metadata": {},
   "source": [
    "# MODEL TEST"
   ]
  },
  {
   "cell_type": "code",
   "execution_count": 4,
   "metadata": {},
   "outputs": [
    {
     "name": "stdout",
     "output_type": "stream",
     "text": [
      "Test data is loaded!\n",
      "WARNING:tensorflow:From /Users/sunchenxi/opt/anaconda3/envs/DL/lib/python3.7/site-packages/tensorflow/python/framework/op_def_library.py:263: colocate_with (from tensorflow.python.framework.ops) is deprecated and will be removed in a future version.\n",
      "Instructions for updating:\n",
      "Colocations handled automatically by placer.\n",
      "WARNING:tensorflow:From /Users/sunchenxi/Documents/GitHub/CCTS/alg/model.py:206: div (from tensorflow.python.ops.math_ops) is deprecated and will be removed in a future version.\n",
      "Instructions for updating:\n",
      "Deprecated in favor of operator or tf.math.divide.\n",
      "WARNING:tensorflow:From /Users/sunchenxi/Documents/GitHub/CCTS/alg/model.py:187: calling dropout (from tensorflow.python.ops.nn_ops) with keep_prob is deprecated and will be removed in a future version.\n",
      "Instructions for updating:\n",
      "Please use `rate` instead of `keep_prob`. Rate should be set to `rate = 1 - keep_prob`.\n",
      "WARNING:tensorflow:From /Users/sunchenxi/Documents/GitHub/CCTS/alg/model.py:218: softmax_cross_entropy_with_logits (from tensorflow.python.ops.nn_ops) is deprecated and will be removed in a future version.\n",
      "Instructions for updating:\n",
      "\n",
      "Future major versions of TensorFlow will allow gradients to flow\n",
      "into the labels input on backprop by default.\n",
      "\n",
      "See `tf.nn.softmax_cross_entropy_with_logits_v2`.\n",
      "\n",
      "WARNING:tensorflow:From /Users/sunchenxi/opt/anaconda3/envs/DL/lib/python3.7/site-packages/tensorflow/python/training/saver.py:1266: checkpoint_exists (from tensorflow.python.training.checkpoint_management) is deprecated and will be removed in a future version.\n",
      "Instructions for updating:\n",
      "Use standard file APIs to check for files with this prefix.\n",
      "INFO:tensorflow:Restoring parameters from model/\n",
      "Test Accuracy = 0.973\n",
      "Test AUC Micro = 0.997\n",
      "Test AUC Macro = 0.994\n",
      "[*] States saved at emb/states.seqs\n"
     ]
    },
    {
     "data": {
      "image/png": "[encoded data removed]",
      "text/plain": [
       "<Figure size 432x288 with 1 Axes>"
      ]
     },
     "metadata": {
      "needs_background": "light"
     },
     "output_type": "display_data"
    }
   ],
   "source": [
    "model_path='model/'\n",
    "data_path='BatchData'\n",
    "state_path='emb/states.seqs'\n",
    "model.test(data_path,model_path,state_path)"
   ]
  },
  {
   "cell_type": "code",
   "execution_count": null,
   "metadata": {},
   "outputs": [],
   "source": []
  },
  {
   "cell_type": "markdown",
   "metadata": {},
   "source": [
    "# DATA PROCESS"
   ]
  },
  {
   "cell_type": "code",
   "execution_count": 109,
   "metadata": {},
   "outputs": [],
   "source": [
    "raw_data=pd.read_excel('data/time_series_375_prerpocess.xlsx',index_col=[0])\n",
    "length_list=raw_data.groupby(['PATIENT_ID'])['RE_DATE'].count().tolist()\n",
    "stage=10\n",
    "for i in range(1,stage+1):\n",
    "    new_dataframe=pd.DataFrame()\n",
    "    for p in range(1,len(length_list)+1):\n",
    "        patient_df=raw_data.groupby('PATIENT_ID').get_group(p).reset_index()\n",
    "        patient_df.drop(patient_df.tail(i).index,axis=0,inplace=True)\n",
    "        patient_df.set_index('PATIENT_ID', inplace=True)\n",
    "        new_dataframe=pd.concat([new_dataframe,patient_df])\n",
    "    new_dataframe.to_excel('StageData/stage_'+str(i)+'.xlsx',index=True)"
   ]
  },
  {
   "cell_type": "code",
   "execution_count": null,
   "metadata": {},
   "outputs": [],
   "source": []
  },
  {
   "cell_type": "code",
   "execution_count": null,
   "metadata": {},
   "outputs": [],
   "source": []
  }
 ],
 "metadata": {
  "kernelspec": {
   "display_name": "Python 3",
   "language": "python",
   "name": "python3"
  },
  "language_info": {
   "codemirror_mode": {
    "name": "ipython",
    "version": 3
   },
   "file_extension": ".py",
   "mimetype": "text/x-python",
   "name": "python",
   "nbconvert_exporter": "python",
   "pygments_lexer": "ipython3",
   "version": "3.7.10"
  }
 },
 "nbformat": 4,
 "nbformat_minor": 4
}
